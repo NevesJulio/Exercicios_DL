{
  "cells": [
    {
      "cell_type": "markdown",
      "metadata": {
        "id": "view-in-github",
        "colab_type": "text"
      },
      "source": [
        "<a href=\"https://colab.research.google.com/github/NevesJulio/Exercicios_DL/blob/main/Exerc%C3%ADcioDL_12.ipynb\" target=\"_parent\"><img src=\"https://colab.research.google.com/assets/colab-badge.svg\" alt=\"Open In Colab\"/></a>"
      ]
    },
    {
      "cell_type": "markdown",
      "id": "541479dd",
      "metadata": {
        "id": "541479dd"
      },
      "source": [
        "# Redes Neurais Convolucionais\n",
        "\n",
        "Neste notebook, investigaremos as Redes Neurais Convolucionais (Convolutional Neural Networks, ou CNNs), uma classe de arquiteturas de redes neurais que se tornou o padrão para tarefas de visão computacional. Diferentemente de um Perceptron Multicamadas (MLP), que trata a entrada como um vetor unidimensional, as CNNs são projetadas para processar dados que possuem uma topologia de grade, como imagens.\n",
        "\n",
        "Para demonstrar sua eficácia, construiremos e treinaremos dois modelos para a tarefa de classificação de dígitos manuscritos do dataset MNIST:\n",
        "\n",
        "1.  Um **modelo linear (MLP)**, que servirá como nossa baseline.\n",
        "2.  Um **modelo convolucional (CNN)**, que emprega camadas convolucionais para aprender hierarquias de features espaciais."
      ]
    },
    {
      "cell_type": "code",
      "execution_count": 4,
      "id": "b3046386",
      "metadata": {
        "id": "b3046386"
      },
      "outputs": [],
      "source": [
        "import torch\n",
        "import torch.nn as nn\n",
        "from torch.utils.data import DataLoader, Subset\n",
        "from torchvision.datasets import MNIST\n",
        "from torchvision.transforms import ToTensor, Normalize, Compose\n",
        "import numpy as np\n",
        "import matplotlib.pyplot as plt\n",
        "\n",
        "torch.manual_seed(42)\n",
        "np.random.seed(42)"
      ]
    },
    {
      "cell_type": "markdown",
      "id": "a846ac3b",
      "metadata": {
        "id": "a846ac3b"
      },
      "source": [
        "## Dataset MNIST\n",
        "\n",
        "Iniciamos preparando o dataset MNIST. Utilizaremos subconjuntos de 5.000 imagens para treino e 1.000 para validação. As imagens serão convertidas para tensores e normalizadas (média `0.1307`, desvio padrão `0.3081`) para otimizar a convergência do modelo."
      ]
    },
    {
      "cell_type": "code",
      "execution_count": 5,
      "id": "b13efa5e",
      "metadata": {
        "id": "b13efa5e",
        "outputId": "eaad1446-8484-4079-8770-795a5f5f7508",
        "colab": {
          "base_uri": "https://localhost:8080/"
        }
      },
      "outputs": [
        {
          "output_type": "stream",
          "name": "stderr",
          "text": [
            "100%|██████████| 9.91M/9.91M [00:00<00:00, 54.1MB/s]\n",
            "100%|██████████| 28.9k/28.9k [00:00<00:00, 1.49MB/s]\n",
            "100%|██████████| 1.65M/1.65M [00:00<00:00, 13.5MB/s]\n",
            "100%|██████████| 4.54k/4.54k [00:00<00:00, 9.70MB/s]"
          ]
        },
        {
          "output_type": "stream",
          "name": "stdout",
          "text": [
            "Tamanho do subset de treino: 5000 imagens\n",
            "Tamanho do subset de validação: 1000 imagens\n",
            "Número de batches no train_loader: 79\n"
          ]
        },
        {
          "output_type": "stream",
          "name": "stderr",
          "text": [
            "\n"
          ]
        }
      ],
      "source": [
        "transform = Compose([\n",
        "    ToTensor(),\n",
        "    Normalize((0.1307,), (0.3081,))\n",
        "])\n",
        "\n",
        "full_train_dataset = MNIST(root='./data', train=True, download=True, transform=transform)\n",
        "full_val_dataset = MNIST(root='./data', train=False, download=True, transform=transform)\n",
        "\n",
        "train_indices = torch.arange(5000)\n",
        "val_indices = torch.arange(1000)\n",
        "\n",
        "train_subset = Subset(full_train_dataset, train_indices)\n",
        "val_subset = Subset(full_val_dataset, val_indices)\n",
        "\n",
        "batch_size = 64\n",
        "train_loader = DataLoader(train_subset, batch_size=batch_size, shuffle=True)\n",
        "val_loader = DataLoader(val_subset, batch_size=batch_size, shuffle=False)\n",
        "\n",
        "print(f\"Tamanho do subset de treino: {len(train_subset)} imagens\")\n",
        "print(f\"Tamanho do subset de validação: {len(val_subset)} imagens\")\n",
        "print(f\"Número de batches no train_loader: {len(train_loader)}\")"
      ]
    },
    {
      "cell_type": "code",
      "execution_count": 6,
      "id": "1184fd09",
      "metadata": {
        "id": "1184fd09"
      },
      "outputs": [],
      "source": [
        "def count_parameters(model):\n",
        "    return sum(p.numel() for p in model.parameters() if p.requires_grad)\n",
        "\n",
        "def evaluate_model(model, val_loader, criterion):\n",
        "    model.eval()  # Coloca o modelo em modo de avaliação\n",
        "    val_loss = 0.0\n",
        "    correct = 0\n",
        "    total = 0\n",
        "    with torch.no_grad():\n",
        "        for inputs, labels in val_loader:\n",
        "            outputs = model(inputs)\n",
        "            loss = criterion(outputs, labels)\n",
        "            val_loss += loss.item()\n",
        "\n",
        "            _, predicted = torch.max(outputs.data, 1)\n",
        "            total += labels.size(0)\n",
        "            correct += (predicted == labels).sum().item()\n",
        "\n",
        "    avg_val_loss = val_loss / len(val_loader)\n",
        "    accuracy = 100 * correct / total\n",
        "    return avg_val_loss, accuracy\n",
        "\n",
        "def train_model(model, train_loader, val_loader, criterion, optimizer, num_epochs=10):\n",
        "    history = {\n",
        "        'train_loss': [],\n",
        "        'val_loss': [],\n",
        "        'val_accuracy': []\n",
        "    }\n",
        "\n",
        "    for epoch in range(num_epochs):\n",
        "        model.train()  # Modo de treinamento\n",
        "        running_train_loss = 0.0\n",
        "\n",
        "        # Loop de treinamento\n",
        "        for inputs, labels in train_loader:\n",
        "            optimizer.zero_grad()\n",
        "            outputs = model(inputs)\n",
        "            loss = criterion(outputs, labels)\n",
        "            loss.backward()\n",
        "            optimizer.step()\n",
        "            running_train_loss += loss.item()\n",
        "\n",
        "        avg_train_loss = running_train_loss / len(train_loader)\n",
        "\n",
        "        # Avaliação ao final da época\n",
        "        avg_val_loss, val_accuracy = evaluate_model(model, val_loader, criterion)\n",
        "\n",
        "        # Armazena as métricas\n",
        "        history['train_loss'].append(avg_train_loss)\n",
        "        history['val_loss'].append(avg_val_loss)\n",
        "        history['val_accuracy'].append(val_accuracy)\n",
        "\n",
        "        print(f\"Epoch [{epoch+1}/{num_epochs}], \"\n",
        "              f\"Train Loss: {avg_train_loss:.4f}, \"\n",
        "              f\"Val Loss: {avg_val_loss:.4f}, \"\n",
        "              f\"Val Accuracy: {val_accuracy:.2f}%\")\n",
        "\n",
        "    print(\"Treinamento concluído.\")\n",
        "    return history\n",
        "\n",
        "def plot_curves(history):\n",
        "    fig, (ax1, ax2) = plt.subplots(1, 2, figsize=(15, 5))\n",
        "\n",
        "    # Plot de Perda (Loss)\n",
        "    ax1.plot(history['train_loss'], label='Perda de Treinamento')\n",
        "    ax1.plot(history['val_loss'], label='Perda de Validação')\n",
        "    ax1.set_title('Curvas de Perda')\n",
        "    ax1.set_xlabel('Épocas')\n",
        "    ax1.set_ylabel('Perda')\n",
        "    ax1.legend()\n",
        "    ax1.grid(True)\n",
        "\n",
        "    # Plot de Acurácia\n",
        "    ax2.plot(history['val_accuracy'], label='Acurácia de Validação', color='g')\n",
        "    ax2.set_title('Curva de Acurácia')\n",
        "    ax2.set_xlabel('Épocas')\n",
        "    ax2.set_ylabel('Acurácia (%)')\n",
        "    ax2.legend()\n",
        "    ax2.grid(True)\n",
        "\n",
        "    plt.show()"
      ]
    },
    {
      "cell_type": "markdown",
      "id": "27eabc74",
      "metadata": {
        "id": "27eabc74"
      },
      "source": [
        "## Exercícios"
      ]
    },
    {
      "cell_type": "markdown",
      "id": "a1e00d74",
      "metadata": {
        "id": "a1e00d74"
      },
      "source": [
        "### Exercício 1\n",
        "\n",
        "Em vez de usar `nn.Sequential` para todo o modelo, uma prática mais comum e flexível é definir a arquitetura dentro de uma classe que herda de `nn.Module`. Isso nos permite organizar o modelo em seções lógicas.\n",
        "\n",
        "Neste exercício, construa um modelo mais profundo, com três ou mais blocos convolucionais, e os organize em duas partes dentro de uma classe:\n",
        "1.  Um extrator de features (`feature_extractor`), contendo as camadas convolucionais e de pooling.\n",
        "2.  Um classificador (`classifier`), contendo as camadas `Flatten`, `Linear` e `Dropout`."
      ]
    },
    {
      "cell_type": "code",
      "source": [
        "import torch\n",
        "import torch.nn as nn\n",
        "\n",
        "class CNNModel(nn.Module):\n",
        "    def __init__(self):\n",
        "        super(CNNModel, self).__init__()\n",
        "\n",
        "        self.feature_extractor = nn.Sequential(\n",
        "            nn.Conv2d(1, 16, 3, 1, 1), # 16, 28, 28\n",
        "            nn.ReLU(),\n",
        "            nn.MaxPool2d(2, 2), # 16, 14, 14\n",
        "            nn.Conv2d(16, 32, 3, 1, 1), # 32, 14, 14\n",
        "            nn.ReLU(),\n",
        "            nn.MaxPool2d(2, 2)# 32, 7, 7\n",
        "        )\n",
        "\n",
        "        self.classification_head = nn.Sequential(\n",
        "            nn.Flatten(),\n",
        "            nn.Linear(32 * 7 * 7, 10),\n",
        "            nn.Dropout(p=0.5)\n",
        "        )\n",
        "\n",
        "    def forward(self, x):\n",
        "        x = self.feature_extractor(x)\n",
        "        x = self.classification_head(x)\n",
        "        return x\n",
        "\n",
        "\n",
        "\n",
        "\n",
        ""
      ],
      "metadata": {
        "id": "oUjh2EHZ7Mce"
      },
      "id": "oUjh2EHZ7Mce",
      "execution_count": 13,
      "outputs": []
    },
    {
      "cell_type": "code",
      "source": [
        "cnn_model = CNNModel()\n",
        "print(cnn_model)\n",
        "# Definindo o critério de perda e o otimizador\n",
        "criterion = nn.CrossEntropyLoss()\n",
        "optimizer = torch.optim.Adam(cnn_model.parameters(), lr=0.001)\n",
        "\n",
        "# Treinando o modelo e coletando o histórico\n",
        "cnn_history = train_model(cnn_model, train_loader, val_loader, criterion, optimizer, num_epochs=10)\n",
        "\n",
        "# Plotando as curvas de aprendizado\n",
        "plot_curves(cnn_history)"
      ],
      "metadata": {
        "id": "WfKq7D2MFehI",
        "outputId": "e61f85ea-35ff-4179-b637-472be9c2d759",
        "colab": {
          "base_uri": "https://localhost:8080/",
          "height": 940
        }
      },
      "id": "WfKq7D2MFehI",
      "execution_count": 14,
      "outputs": [
        {
          "output_type": "stream",
          "name": "stdout",
          "text": [
            "CNNModel(\n",
            "  (feature_extractor): Sequential(\n",
            "    (0): Conv2d(1, 16, kernel_size=(3, 3), stride=(1, 1), padding=(1, 1))\n",
            "    (1): ReLU()\n",
            "    (2): MaxPool2d(kernel_size=2, stride=2, padding=0, dilation=1, ceil_mode=False)\n",
            "    (3): Conv2d(16, 32, kernel_size=(3, 3), stride=(1, 1), padding=(1, 1))\n",
            "    (4): ReLU()\n",
            "    (5): MaxPool2d(kernel_size=2, stride=2, padding=0, dilation=1, ceil_mode=False)\n",
            "  )\n",
            "  (classification_head): Sequential(\n",
            "    (0): Flatten(start_dim=1, end_dim=-1)\n",
            "    (1): Linear(in_features=1568, out_features=10, bias=True)\n",
            "    (2): Dropout(p=0.5, inplace=False)\n",
            "  )\n",
            ")\n",
            "Epoch [1/10], Train Loss: 1.4639, Val Loss: 0.4703, Val Accuracy: 88.90%\n",
            "Epoch [2/10], Train Loss: 1.0747, Val Loss: 0.2916, Val Accuracy: 93.40%\n",
            "Epoch [3/10], Train Loss: 0.9980, Val Loss: 0.2510, Val Accuracy: 93.90%\n",
            "Epoch [4/10], Train Loss: 0.9431, Val Loss: 0.2014, Val Accuracy: 94.50%\n",
            "Epoch [5/10], Train Loss: 0.9324, Val Loss: 0.1571, Val Accuracy: 95.30%\n",
            "Epoch [6/10], Train Loss: 0.9242, Val Loss: 0.1264, Val Accuracy: 96.80%\n",
            "Epoch [7/10], Train Loss: 0.9080, Val Loss: 0.1153, Val Accuracy: 97.00%\n",
            "Epoch [8/10], Train Loss: 0.9038, Val Loss: 0.1038, Val Accuracy: 97.10%\n",
            "Epoch [9/10], Train Loss: 0.8932, Val Loss: 0.0978, Val Accuracy: 97.10%\n",
            "Epoch [10/10], Train Loss: 0.9010, Val Loss: 0.0934, Val Accuracy: 97.30%\n",
            "Treinamento concluído.\n"
          ]
        },
        {
          "output_type": "display_data",
          "data": {
            "text/plain": [
              "<Figure size 1500x500 with 2 Axes>"
            ],
            "image/png": "[encoded data removed]"
          },
          "metadata": {}
        }
      ]
    },
    {
      "cell_type": "markdown",
      "id": "19f4f00c",
      "metadata": {
        "id": "19f4f00c"
      },
      "source": [
        "### Exercício 2\n",
        "\n",
        "Considere que ao invés do MNIST, os dados de entrada são imagens RGB no formato `(3, 32, 32)`. Implemente uma CNN para classificar essas imagens em 10 classes."
      ]
    }
  ],
  "metadata": {
    "kernelspec": {
      "display_name": "base",
      "language": "python",
      "name": "python3"
    },
    "language_info": {
      "codemirror_mode": {
        "name": "ipython",
        "version": 3
      },
      "file_extension": ".py",
      "mimetype": "text/x-python",
      "name": "python",
      "nbconvert_exporter": "python",
      "pygments_lexer": "ipython3",
      "version": "3.10.9"
    },
    "colab": {
      "provenance": [],
      "include_colab_link": true
    }
  },
  "nbformat": 4,
  "nbformat_minor": 5
}